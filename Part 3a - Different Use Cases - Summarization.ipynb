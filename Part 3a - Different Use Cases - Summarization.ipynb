{
 "cells": [
  {
   "cell_type": "markdown",
   "id": "43bf674d",
   "metadata": {},
   "source": [
    "# Summarization\n",
    "\n",
    "In this lesson, you will summarize text with a focus on specific topics."
   ]
  },
  {
   "cell_type": "code",
   "execution_count": 1,
   "id": "1ec9a84a",
   "metadata": {},
   "outputs": [],
   "source": [
    "import openai\n",
    "import os"
   ]
  },
  {
   "cell_type": "code",
   "execution_count": 2,
   "id": "0e115e83",
   "metadata": {},
   "outputs": [],
   "source": [
    "openai.api_key = \"YOUR OPEN AI API KEY\""
   ]
  },
  {
   "cell_type": "code",
   "execution_count": 3,
   "id": "e3c463f1",
   "metadata": {},
   "outputs": [],
   "source": [
    "def get_completion(prompt, model=\"gpt-3.5-turbo\"):\n",
    "    messages = [{\"role\": \"user\", \"content\": prompt}]\n",
    "    response = openai.ChatCompletion.create(\n",
    "        model=model,\n",
    "        messages=messages,\n",
    "        temperature=0,\n",
    "    )\n",
    "    return response.choices[0].message[\"content\"]"
   ]
  },
  {
   "cell_type": "markdown",
   "id": "08dbd9aa",
   "metadata": {},
   "source": [
    "## Summarizing Text"
   ]
  },
  {
   "cell_type": "code",
   "execution_count": 4,
   "id": "5109defc",
   "metadata": {},
   "outputs": [],
   "source": [
    "product_review = \"\"\"\n",
    "Got this panda plush toy for my daughter's birthday, who loves it and takes it everywhere. It's soft and \\ \n",
    "super cute, and its face has a friendly look. It's a bit small for what I paid though. I think there \\ \n",
    "might be other options that are bigger for the same price. It arrived a day earlier than expected, \\ \n",
    "so I got to play with it myself before I gave it to her.\n",
    "\"\"\""
   ]
  },
  {
   "cell_type": "markdown",
   "id": "0668c8b5",
   "metadata": {},
   "source": [
    "### Summarize with a word/sentence/character limit"
   ]
  },
  {
   "cell_type": "code",
   "execution_count": 5,
   "id": "c347e7dd",
   "metadata": {},
   "outputs": [
    {
     "name": "stdout",
     "output_type": "stream",
     "text": [
      "Soft and cute panda plush toy with a friendly face. A bit small for the price, but arrived a day early. Daughter loves it.\n"
     ]
    }
   ],
   "source": [
    "prompt = f\"\"\"\n",
    "Your task is to generate a short summary of a product review from an ecommerce site. \n",
    "\n",
    "Summarize the review below, delimited by triple backticks, in at most 30 words. \n",
    "\n",
    "Review: ```{product_review}```\n",
    "\"\"\"\n",
    "\n",
    "response = get_completion(prompt)\n",
    "print(response)"
   ]
  },
  {
   "cell_type": "markdown",
   "id": "7721e9bd",
   "metadata": {},
   "source": [
    "### Summarize with a focus on shipping and delivery"
   ]
  },
  {
   "cell_type": "code",
   "execution_count": 6,
   "id": "96634e34",
   "metadata": {},
   "outputs": [
    {
     "name": "stdout",
     "output_type": "stream",
     "text": [
      "The panda plush toy arrived a day earlier than expected, but the customer felt it was a bit small for the price.\n"
     ]
    }
   ],
   "source": [
    "prompt = f\"\"\"\n",
    "Your task is to generate a short summary of a product review from an ecommerce site to give feedback to the \\\n",
    "Shipping deparmtment. \n",
    "\n",
    "Summarize the review below, delimited by triple backticks, in at most 30 words, and focusing on any aspects \\\n",
    "that mention shipping and delivery of the product. \n",
    "\n",
    "Review: ```{product_review}```\n",
    "\"\"\"\n",
    "\n",
    "response = get_completion(prompt)\n",
    "print(response)"
   ]
  },
  {
   "cell_type": "markdown",
   "id": "08454a76",
   "metadata": {},
   "source": [
    "### Summarize with a focus on price and value"
   ]
  },
  {
   "cell_type": "code",
   "execution_count": 7,
   "id": "01595ff6",
   "metadata": {},
   "outputs": [
    {
     "name": "stdout",
     "output_type": "stream",
     "text": [
      "```Soft and cute panda plush toy, loved by daughter. However, a bit small for the price paid. Consider offering larger options for the same price.```\n"
     ]
    }
   ],
   "source": [
    "prompt = f\"\"\"\n",
    "Your task is to generate a short summary of a product review from an ecommerce site to give feedback to the \\\n",
    "pricing deparmtment, responsible for determining the price of the product.  \n",
    "\n",
    "Summarize the review below, delimited by triple backticks, in at most 30 words, and focusing on any aspects \\\n",
    "that are relevant to the price and perceived value. \n",
    "\n",
    "Review: ```{product_review}```\n",
    "\"\"\"\n",
    "\n",
    "response = get_completion(prompt)\n",
    "print(response)"
   ]
  },
  {
   "cell_type": "markdown",
   "id": "6bd71378",
   "metadata": {},
   "source": [
    "### Extracting Instead of Summarization"
   ]
  },
  {
   "cell_type": "code",
   "execution_count": 8,
   "id": "2e4b2128",
   "metadata": {},
   "outputs": [
    {
     "name": "stdout",
     "output_type": "stream",
     "text": [
      "\"The product arrived a day earlier than expected.\"\n"
     ]
    }
   ],
   "source": [
    "prompt = f\"\"\"\n",
    "Your task is to extract relevant information from a product review from an ecommerce site to give \\\n",
    "feedback to the Shipping department. \n",
    "\n",
    "From the review below, delimited by triple quotes extract the information relevant to shipping and \\ \n",
    "delivery. Limit to 30 words. \n",
    "\n",
    "Review: ```{product_review}```\n",
    "\"\"\"\n",
    "\n",
    "response = get_completion(prompt)\n",
    "print(response)"
   ]
  },
  {
   "cell_type": "markdown",
   "id": "9ca27d4d",
   "metadata": {},
   "source": [
    "### Summarzing Multiple Reviews"
   ]
  },
  {
   "cell_type": "code",
   "execution_count": 9,
   "id": "54b00336",
   "metadata": {},
   "outputs": [],
   "source": [
    "# review for a standing lamp\n",
    "review_1 = \"\"\"\n",
    "Needed a nice lamp for my bedroom, and this one had additional storage and not too high of a price \\\n",
    "point. Got it fast - arrived in 2 days. The string to the lamp broke during the transit and the company \\\n",
    "happily sent over a new one. Came within a few days as well. It was easy to put together. Then I had a \\\n",
    "missing part, so I contacted their support and they very quickly got me the missing piece! Seems to me \\\n",
    "to be a great company that cares about their customers and products. \n",
    "\"\"\"\n",
    "\n",
    "# review for an electric toothbrush\n",
    "review_2 = \"\"\"\n",
    "My dental hygienist recommended an electric toothbrush, which is why I got this. The battery life seems to be \\\n",
    "pretty impressive so far. After initial charging and leaving the charger plugged in for the first week to \\\n",
    "condition the battery, I've unplugged the charger and been using it for twice daily brushing for the last \\\n",
    "3 weeks all on the same charge. But the toothbrush head is too small. I’ve seen baby toothbrushes bigger than \\\n",
    "this one. I wish the head was bigger with different length bristles to get between teeth better because \\\n",
    "this one doesn’t.  Overall if you can get this one around the $50 mark, it's a good deal. The manufactuer's \\\n",
    "replacements heads are pretty expensive, but you can get generic ones that're more reasonably priced. This \\\n",
    "toothbrush makes me feel like I've been to the dentist every day. My teeth feel sparkly clean! \n",
    "\"\"\"\n",
    "\n",
    "# review for a blender\n",
    "review_3 = \"\"\"\n",
    "So, they still had the 17 piece system on seasonal sale for around $49 in the month of November, about \\\n",
    "half off, but for some reason (call it price gouging) around the second week of December the prices all went \\\n",
    "up to about anywhere from between $70-$89 for the same system. And the 11 piece system went up around $10 or \\\n",
    "so in price also from the earlier sale price of $29. So it looks okay, but if you look at the base, the part \\\n",
    "where the blade locks into place doesn’t look as good as in previous editions from a few years ago, but I \\\n",
    "plan to be very gentle with it (example, I crush very hard items like beans, ice, rice, etc. in the \\ \n",
    "blender first then pulverize them in the serving size I want in the blender then switch to the whipping \\\n",
    "blade for a finer flour, and use the cross cutting blade first when making smoothies, then use the flat blade \\\n",
    "if I need them finer/less pulpy). Special tip when making smoothies, finely cut and freeze the fruits and \\\n",
    "vegetables (if using spinach-lightly stew soften the spinach then freeze until ready for use-and if making \\\n",
    "sorbet, use a small to medium sized food processor) that you plan to use that way you can avoid adding so \\\n",
    "much ice if at all-when making your smoothie. After about a year, the motor was making a funny noise. \\\n",
    "I called customer service but the warranty expired already, so I had to buy another one. FYI: The overall \\\n",
    "quality has gone done in these types of products, so they are kind of counting on brand recognition and \\\n",
    "consumer loyalty to maintain sales. Got it in about two days.\n",
    "\"\"\"\n",
    "\n",
    "reviews = [review_1, review_2, review_3]"
   ]
  },
  {
   "cell_type": "code",
   "execution_count": 10,
   "id": "d34c49ab",
   "metadata": {},
   "outputs": [
    {
     "name": "stdout",
     "output_type": "stream",
     "text": [
      "0 Affordable lamp with storage, fast shipping, and excellent customer service. Easy to assemble with quick replacement of broken and missing parts. \n",
      "\n",
      "1 Good battery life, small toothbrush head, but effective cleaning. Good deal if bought around $50. \n",
      "\n",
      "2 Product price increased after seasonal sale, base quality not as good as previous editions, motor had issues after a year. \n",
      "\n"
     ]
    }
   ],
   "source": [
    "for i in range(len(reviews)):\n",
    "    prompt = f\"\"\"\n",
    "    Your task is to generate a short summary of a product review from an ecommerce site. \n",
    "\n",
    "    Summarize the review below, delimited by triple backticks in at most 20 words. \n",
    "\n",
    "    Review: ```{reviews[i]}```\n",
    "    \"\"\"\n",
    "\n",
    "    response = get_completion(prompt)\n",
    "    print(i, response, \"\\n\")"
   ]
  },
  {
   "cell_type": "code",
   "execution_count": null,
   "id": "7d2cac50",
   "metadata": {},
   "outputs": [],
   "source": []
  }
 ],
 "metadata": {
  "kernelspec": {
   "display_name": "Python 3 (ipykernel)",
   "language": "python",
   "name": "python3"
  },
  "language_info": {
   "codemirror_mode": {
    "name": "ipython",
    "version": 3
   },
   "file_extension": ".py",
   "mimetype": "text/x-python",
   "name": "python",
   "nbconvert_exporter": "python",
   "pygments_lexer": "ipython3",
   "version": "3.8.10"
  }
 },
 "nbformat": 4,
 "nbformat_minor": 5
}
