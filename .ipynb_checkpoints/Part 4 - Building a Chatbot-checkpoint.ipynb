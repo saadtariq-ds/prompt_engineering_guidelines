{
 "cells": [
  {
   "cell_type": "code",
   "execution_count": 1,
   "id": "26dde7ba",
   "metadata": {},
   "outputs": [],
   "source": [
    "import os\n",
    "import openai"
   ]
  },
  {
   "cell_type": "code",
   "execution_count": 2,
   "id": "c06c8349",
   "metadata": {},
   "outputs": [],
   "source": [
    "openai.api_key = \"YOUR OPEN AI API KEY\""
   ]
  },
  {
   "cell_type": "code",
   "execution_count": 3,
   "id": "2c326a85",
   "metadata": {},
   "outputs": [],
   "source": [
    "def get_completion_from_messages(messages, model=\"gpt-3.5-turbo\", temperature=0):\n",
    "    response = openai.ChatCompletion.create(\n",
    "        model=model,\n",
    "        messages=messages,\n",
    "        temperature=temperature,\n",
    "    )\n",
    "    \n",
    "    return response.choices[0].message[\"content\"]"
   ]
  },
  {
   "cell_type": "markdown",
   "id": "0e87920e",
   "metadata": {},
   "source": [
    "## Example 1: Acting as a Shakespeare"
   ]
  },
  {
   "cell_type": "code",
   "execution_count": 4,
   "id": "082a1e3b",
   "metadata": {},
   "outputs": [],
   "source": [
    "messages =  [  \n",
    "{'role':'system', 'content':'You are an assistant that speaks like Shakespeare.'},    \n",
    "{'role':'user', 'content':'tell me a joke'},   \n",
    "{'role':'assistant', 'content':'Why did the chicken cross the road'},   \n",
    "{'role':'user', 'content':'I don\\'t know'}  ]"
   ]
  },
  {
   "cell_type": "code",
   "execution_count": 5,
   "id": "3ce0a9cf",
   "metadata": {},
   "outputs": [
    {
     "name": "stdout",
     "output_type": "stream",
     "text": [
      "To get to the other side, good sir!\n"
     ]
    }
   ],
   "source": [
    "response = get_completion_from_messages(messages, temperature=0)\n",
    "print(response)"
   ]
  },
  {
   "cell_type": "markdown",
   "id": "4ed47811",
   "metadata": {},
   "source": [
    "## Example 2: Acting as a friendly chatbot"
   ]
  },
  {
   "cell_type": "markdown",
   "id": "406e0de3",
   "metadata": {},
   "source": [
    "**Let's try with a example**"
   ]
  },
  {
   "cell_type": "code",
   "execution_count": 6,
   "id": "5039f831",
   "metadata": {},
   "outputs": [],
   "source": [
    "messages = [\n",
    "    {'role':'system', 'content':'You are friendly chatbot.'},\n",
    "    {'role':'user', 'content':'Hi, my name is Saad'}\n",
    "]"
   ]
  },
  {
   "cell_type": "code",
   "execution_count": 7,
   "id": "59260168",
   "metadata": {},
   "outputs": [
    {
     "name": "stdout",
     "output_type": "stream",
     "text": [
      "Hello Saad! It's nice to meet you. How can I assist you today?\n"
     ]
    }
   ],
   "source": [
    "response = get_completion_from_messages(messages, temperature=0)\n",
    "print(response)"
   ]
  },
  {
   "cell_type": "markdown",
   "id": "f325640e",
   "metadata": {},
   "source": [
    "**Let's try another example**"
   ]
  },
  {
   "cell_type": "code",
   "execution_count": 8,
   "id": "afbf10b9",
   "metadata": {},
   "outputs": [],
   "source": [
    "messages = [\n",
    "    {'role':'system', 'content':'You are friendly chatbot.'},\n",
    "    {'role':'user', 'content':'Yes,  can you remind me, What is my name?'}\n",
    "]"
   ]
  },
  {
   "cell_type": "code",
   "execution_count": 9,
   "id": "d7a48f89",
   "metadata": {},
   "outputs": [
    {
     "name": "stdout",
     "output_type": "stream",
     "text": [
      "I'm sorry, but as an AI language model, I don't have access to your personal information, including your name. Can you please tell me your name?\n"
     ]
    }
   ],
   "source": [
    "response = get_completion_from_messages(messages, temperature=0)\n",
    "print(response)"
   ]
  },
  {
   "cell_type": "markdown",
   "id": "034974f1",
   "metadata": {},
   "source": [
    "As evident, the model lacks awareness of my name, emphasizing that each interaction with a language model exists in isolation. Therefore, to enable the model to reference or retain information from previous parts of the conversation, it is necessary to include the earlier exchanges in the model's input. This collection of preceding messages is commonly referred to as the context. To further illustrate this concept, let's explore another example."
   ]
  },
  {
   "cell_type": "code",
   "execution_count": 10,
   "id": "55a42468",
   "metadata": {},
   "outputs": [],
   "source": [
    "messages = [\n",
    "    {'role':'system', 'content':'You are friendly chatbot.'},\n",
    "    {'role':'user', 'content':'Hi, my name is Saad'},\n",
    "    {'role':'assistant', 'content': \"Hi Saad! It's nice to meet you. Is there anything I can help you with today?\"},\n",
    "    {'role':'user', 'content':'Yes, you can remind me, What is my name?'}\n",
    "]"
   ]
  },
  {
   "cell_type": "code",
   "execution_count": 11,
   "id": "9ee9c3e0",
   "metadata": {},
   "outputs": [
    {
     "name": "stdout",
     "output_type": "stream",
     "text": [
      "Your name is Saad.\n"
     ]
    }
   ],
   "source": [
    "response = get_completion_from_messages(messages, temperature=0)\n",
    "print(response)"
   ]
  },
  {
   "cell_type": "code",
   "execution_count": null,
   "id": "288463e2",
   "metadata": {},
   "outputs": [],
   "source": []
  }
 ],
 "metadata": {
  "kernelspec": {
   "display_name": "Python 3 (ipykernel)",
   "language": "python",
   "name": "python3"
  },
  "language_info": {
   "codemirror_mode": {
    "name": "ipython",
    "version": 3
   },
   "file_extension": ".py",
   "mimetype": "text/x-python",
   "name": "python",
   "nbconvert_exporter": "python",
   "pygments_lexer": "ipython3",
   "version": "3.8.10"
  }
 },
 "nbformat": 4,
 "nbformat_minor": 5
}
